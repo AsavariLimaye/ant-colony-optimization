{
 "cells": [
  {
   "cell_type": "code",
   "execution_count": 71,
   "metadata": {
    "collapsed": true
   },
   "outputs": [],
   "source": [
    "import json\n",
    "import numpy as np\n",
    "from statistics import mean\n",
    "import random\n",
    "import math\n",
    "import matplotlib.pyplot as plt\n",
    "import matplotlib.patches as mpatches\n"
   ]
  },
  {
   "cell_type": "code",
   "execution_count": 2,
   "metadata": {
    "collapsed": true
   },
   "outputs": [],
   "source": [
    "Results = {}"
   ]
  },
  {
   "cell_type": "code",
   "execution_count": 3,
   "metadata": {},
   "outputs": [],
   "source": [
    "class ACO:\n",
    "    #ACO Parameters\n",
    "    alpha = 1\n",
    "    beta = 5\n",
    "    rho = 0.4\n",
    "    rho1 = 0.5\n",
    "    m = 10\n",
    "    q0 = 0.9\n",
    "    Nmax = 30\n",
    "    w1 = 0.5\n",
    "    w2 = 0.5\n",
    "    minmax = False\n",
    "    gupdate = False\n",
    "    \n",
    "    #Data\n",
    "    Tasks = []\n",
    "    task_len = 0\n",
    "    VMs = []\n",
    "    vm_len = 0\n",
    "    \n",
    "    #Matrix to Store the task-vm pheromone\n",
    "    Pher = 0\n",
    "    \n",
    "    #Execution Times of the Tasks\n",
    "    Et = 0\n",
    "    \n",
    "    #Transmission times of the tasks\n",
    "    Tt = 0\n",
    "    \n",
    "    # Total runtime  = Transmission + Execution Times\n",
    "    TRT = 0\n",
    "    \n",
    "    # VM Computation \n",
    "    Vm_comp = 0\n",
    "    vm_comp_avg = 0\n",
    "    \n",
    "    #Sum of all the execution times\n",
    "    total_exec_time = 0\n",
    "    #Sum of all input file sizes\n",
    "    total_file_size = 0\n",
    "    # Max Computation power VM , Min Computation Power VM\n",
    "    max_comp = 0\n",
    "    min_comp = 0\n",
    "    # Bandwidth of the one with max and min comp power\n",
    "    max_comp_bw = 0\n",
    "    min_comp_bw = 0\n",
    "    # C_Time_min and C_Time_max\n",
    "    c_time_min = 0\n",
    "    c_time_max = 0\n",
    "    # Max cost VM cost, min cost vm cost\n",
    "    min_ucost = 0\n",
    "    max_ucost = 0\n",
    "    # TotalCostmin and max\n",
    "    total_cost_min = 0\n",
    "    total_cost_max = 0\n",
    "    \n",
    "    # Related to the Current Iteration\n",
    "    M = 0 #Mapping from tasks to VMs: [n_ants, n_tasks, n_vms]\n",
    "    vm_completetime = 0 # [n_ants, n_vms] Sum of execution times for all tasks assigned to it\n",
    "    c_time_i = 0 # Completion times for the set of tasks [n_ants]\n",
    "    total_cost_i = 0 # Cost of using VMs [n_ants]  \n",
    "    time_cf = 0 # Time Constraint Function: [n_ants]\n",
    "    c_cost_i = 0 # Cost Constraint Function: [n_ants]\n",
    "    L = 0 # w1*time_cf + w2*c_cost_i: [n_ants]\n",
    "    \n",
    "    \n",
    "    L_global_opt = -1\n",
    "    M_global_opt = -1 # [n_tasks, n_vms]\n",
    "    current_total_exectime = 0 # [n_ants] total execution time till now over all VMs\n",
    "    \n",
    "    \n",
    "    # Performance Variables of Global Optimum after each iteration\n",
    "    BL = 0 # Balanced Load Evaluation Function [n_iters]\n",
    "    Costs = 0 # Total Cost [n_iters]\n",
    "    Makespans = 0 # Total Makespans [n_iters]\n",
    "    \n",
    "    \n",
    "    #Mostly wont need these as variables:\n",
    "    # Completion time of a VM (Sum of runtimes of all tasks assigned to it)\n",
    "    # VM_completetime = []\n",
    "    # Total Completion time\n",
    "    # Max_VM_completetime\n",
    "    # Cost of completing all tasks\n",
    "    # Sum over all VM ( Unit cost of VM * Max time to complete )\n",
    "    # Cost Constraint Function, Time constraint function, overall objective function\n",
    "    \n",
    "    def __init__(self, alpha = 1, beta = 5,rho = 0.4,rho1 = 0.5,m = 10,q0 = 0.9,Nmax = 30,w1 = 0.5, minmax = False, gupdate = False):\n",
    "        self.alpha = alpha\n",
    "        self.beta = beta\n",
    "        self.rho = float(rho)\n",
    "        self.rho1 = float(rho1)\n",
    "        self.m = m\n",
    "        self.q0 = q0\n",
    "        self.Nmax = Nmax\n",
    "        self.w1 = float(w1) # For Time\n",
    "        self.w2 = 1.0 - float(w1) # For Cost\n",
    "        self.minmax = minmax\n",
    "        \n",
    "    \n",
    "    #Laod the data\n",
    "    def loadData(self, vm_file, task_file):\n",
    "        fvm = open(vm_file, \"r\")\n",
    "        ftask = open(task_file, \"r\")\n",
    "        vm_data = (fvm.read())\n",
    "        task_data = (ftask.read())\n",
    "        self.VMs = json.loads(vm_data)\n",
    "        self.Tasks = json.loads(task_data)\n",
    "        \n",
    "        self.calcValues()\n",
    "        \n",
    "        \n",
    "    def calcValues(self):\n",
    "        self.task_len = len(self.Tasks)\n",
    "        self.vm_len = len(self.VMs)\n",
    "        \n",
    "        self.setVmCompCost()\n",
    "        \n",
    "        self.setTotalTimes()\n",
    "        self.setCTimes()\n",
    "        \n",
    "        self.setInitialPheromone()\n",
    "    \n",
    "    \n",
    "    def setTotalTimes(self):\n",
    "        self.setExecutionTimes()\n",
    "        self.setTransmissionTimes()\n",
    "        \n",
    "        self.TRT = self.Et + self.Tt\n",
    "    \n",
    "    def setVmCompCost(self):\n",
    "        self.Vm_comp = np.zeros((self.vm_len))\n",
    "        self.Vm_comp[0] = self.VMs[0]['mips'] * self.VMs[0]['n_pe']\n",
    "        \n",
    "        self.max_comp = self.Vm_comp[0]\n",
    "        self.max_comp_bw = self.VMs[0][\"bw\"]\n",
    "        self.min_comp = self.Vm_comp[0]\n",
    "        self.min_comp_bw = self.VMs[0][\"bw\"]\n",
    "        \n",
    "        self.max_ucost = self.VMs[0]['cost']\n",
    "        self.min_ucost = self.VMs[0]['cost']\n",
    "        self.vm_comp_avg = self.Vm_comp[0]\n",
    "        \n",
    "        for i in range(1, self.vm_len):\n",
    "            self.Vm_comp[i] = self.VMs[i]['mips'] * self.VMs[i]['n_pe']\n",
    "            self.vm_comp_avg += self.Vm_comp[i]\n",
    "            if (self.Vm_comp[i] > self.max_comp):\n",
    "                self.max_comp = self.Vm_comp[i]\n",
    "                self.max_comp_bw = self.VMs[i]['bw']\n",
    "            if (self.Vm_comp[i] < self.min_comp):\n",
    "                self.min_comp = self.Vm_comp[i]\n",
    "                self.min_comp_bw = self.VMs[i]['bw']\n",
    "                \n",
    "            if (self.VMs[i]['cost'] < self.min_ucost):\n",
    "                self.min_ucost  = self.VMs[i]['cost']\n",
    "            if (self.VMs[i]['cost'] > self.max_ucost):\n",
    "                self.max_ucost  = self.VMs[i]['cost']\n",
    "                \n",
    "        self.vm_comp_avg = self.vm_comp_avg / float(self.vm_len)\n",
    "        \n",
    "    def setExecutionTimes(self):\n",
    "        #Uses length of the task and processing power of the VM\n",
    "        # L/P\n",
    "        # P = mips*n_pe\n",
    "        \n",
    "        self.Et = np.zeros((self.task_len, self.vm_len))\n",
    "        for i in range(self.task_len):\n",
    "            for j in range(self.vm_len):\n",
    "                p = self.Vm_comp[j]\n",
    "                self.Et[i][j] = self.Tasks[i][\"length\"] / float(p)\n",
    "            self.total_exec_time += self.Tasks[i][\"length\"]\n",
    "    \n",
    "    def setTransmissionTimes(self):\n",
    "        # Uses file size of task and bandwidth of vm\n",
    "        # fs/bw\n",
    "        self.Tt = np.zeros((self.task_len, self.vm_len))\n",
    "        for i in range(self.task_len):\n",
    "            for j in range(self.vm_len):\n",
    "                self.Tt[i][j] = self.Tasks[i][\"file\"] / float(self.VMs[j][\"bw\"])\n",
    "            self.total_file_size += self.Tasks[i][\"file\"]\n",
    "            \n",
    "    def setCTimes(self):\n",
    "        self.c_time_min = ((self.total_exec_time) / (self.vm_len * self.max_comp)) + (self.total_file_size/ (self.vm_len * self.max_comp_bw)) \n",
    "        self.c_time_max = ((self.total_exec_time) / (self.vm_len * self.min_comp)) + (self.total_file_size/ (self.vm_len * self.min_comp_bw))\n",
    "    \n",
    "        self.total_cost_min = self.c_time_min * self.min_ucost\n",
    "        self.total_cost_max = self.c_time_max * self.max_ucost\n",
    "        \n",
    "    def setInitialPheromone(self):\n",
    "        # vm comp / average comp\n",
    "        self.Pher = np.zeros((self.task_len,self.vm_len))\n",
    "        for j in range(self.vm_len):\n",
    "            t0 = self.Vm_comp[j] / float(self.vm_comp_avg)\n",
    "            for i in range(self.task_len):\n",
    "                self.Pher[i][j] = t0\n",
    "                \n",
    "                \n",
    "    def findGlobalOptMetrics(self):\n",
    "        LBavg = 0.0\n",
    "        LB = np.zeros((self.vm_len))\n",
    "        costs = np.zeros((self.vm_len))\n",
    "        \n",
    "        GlobalCost = 0.0\n",
    "        GlobalMakespan = 0.0\n",
    "        \n",
    "        for i in range(self.task_len):\n",
    "            for j in range(self.vm_len):\n",
    "                if (self.M_global_opt[i][j] == 1):\n",
    "                    LBavg += self.TRT[i][j]\n",
    "                    LB[j] += self.TRT[i][j]\n",
    "                    costs[j] += self.TRT[i][j]*self.VMs[j][\"cost\"]\n",
    "                    \n",
    "        GlobalCost = max(costs)\n",
    "        GlobalMakespan = max(LB)\n",
    "        LBavg /= float(self.vm_len)\n",
    "        \n",
    "        BalLoad = 0.0\n",
    "        for i in range(self.vm_len):\n",
    "            BalLoad += pow((LB[i] - LBavg),2)\n",
    "        BalLoad /= self.vm_len\n",
    "        BalLoad = math.sqrt(BalLoad)\n",
    "        \n",
    "        return BalLoad, GlobalCost, GlobalMakespan\n",
    "    \n",
    "    def chooseVM(self, tid, a):\n",
    "        if (tid == 0):\n",
    "            ret = random.randint(0, self.vm_len-1)\n",
    "            assert(ret >=0 and ret<self.vm_len)\n",
    "        \n",
    "        q = random.random()\n",
    "        selectedvm = 0\n",
    "        load = np.zeros((self.vm_len))\n",
    "        heuristic = np.zeros((self.vm_len))\n",
    "        total_heuristic = 0.0\n",
    "        \n",
    "        avg_e = self.current_total_exectime[a] / float(self.vm_len)\n",
    "        for l in range(self.vm_len):\n",
    "            load[l] = 1.0 - ((self.vm_completetime[a][l] - avg_e)/self.current_total_exectime[a])\n",
    "            heuristic[l] = pow(self.Pher[tid][l], self.alpha) * pow(load[l]/self.Et[tid][l], self.beta)\n",
    "            total_heuristic += heuristic[l]\n",
    "            \n",
    "        if (q < self.q0):\n",
    "            selectedvm = 0\n",
    "            maxv = heuristic[0]\n",
    "            for v in range(self.vm_len):\n",
    "                if (heuristic[v] > maxv):\n",
    "                    selectedvm = v\n",
    "                    maxv = heuristic[v]\n",
    "            assert(selectedvm >=0 and selectedvm <self.vm_len)\n",
    "            return selectedvm\n",
    "        else:\n",
    "            limits = np.zeros(self.vm_len)\n",
    "            cumul = 0.0\n",
    "            for i in range(self.vm_len):\n",
    "                limits[i] = 1000*(heuristic[i]/total_heuristic) + cumul\n",
    "                cumul += limits[i]\n",
    "                \n",
    "            limits[self.vm_len - 1] = 1000\n",
    "            s = random.randint(0, 1000)\n",
    "            ret = 0\n",
    "            for i in range(self.vm_len):\n",
    "                if (s > limits[i]):\n",
    "                    ret = i+1\n",
    "            assert(ret >=0 and ret<self.vm_len)\n",
    "            return ret\n",
    "    \n",
    "    def preIterSetup(self):\n",
    "        self.M = np.zeros((self.m, self.task_len, self.vm_len)) #Mapping from tasks to VMs: [n_ants, n_tasks, n_vms]\n",
    "        self.vm_completetime = np.zeros((self.m, self.vm_len)) # [n_ants, n_vms] Sum of execution times for all tasks assigned to it\n",
    "        self.c_time_i =np.zeros((self.m)) # Completion times for the set of tasks [n_ants]\n",
    "        self.total_cost_i = np.zeros((self.m)) # Cost of using VMs [n_ants]  \n",
    "        self.time_cf = np.zeros((self.m)) # Time Constraint Function: [n_ants]\n",
    "        self.c_cost_i = np.zeros((self.m)) # Cost Constraint Function: [n_ants]\n",
    "        self.L = np.zeros((self.m)) # w1*time_cf + w2*c_cost_i: [n_ants]\n",
    "        \n",
    "        self.current_total_exectime = np.zeros((self.m)) # Current total of all VM executon times\n",
    "    \n",
    "    def updatePheromone(self, a):\n",
    "        for i in range(self.task_len):\n",
    "            for j in range(self.vm_len):\n",
    "                increment = 0.0\n",
    "                if (self.M[a][i][j] == 1):\n",
    "                    increment = 1.0 / float(self.L[a])\n",
    "                self.Pher[i][j] = (1 - self.rho)*self.Pher[i][j] + self.rho*increment\n",
    "    \n",
    "    def updateGlobalPheromone(self):\n",
    "        for i in range(self.task_len):\n",
    "            for j in range(self.vm_len):\n",
    "                increment = 0.0\n",
    "                if (self.M_global_opt[i][j] == 1):\n",
    "                    increment = 1.0 / float(self.L_global_opt)\n",
    "                self.Pher[i][j] = (1 - self.rho1)*self.Pher[i][j] + self.rho1*increment\n",
    "    \n",
    "    def updateBestPheromone(self):\n",
    "        ind = 0\n",
    "        best = self.L[0]\n",
    "        for a in range(self.m):\n",
    "            if (self.L[a] < best):\n",
    "                best = self.L[a]\n",
    "                ind = a\n",
    "        \n",
    "        for i in range(self.task_len):\n",
    "            for j in range(self.vm_len):\n",
    "                increment = 0.0\n",
    "                if (self.M[ind][i][j] == 1):\n",
    "                    increment = 1.0 / float(best)\n",
    "                self.Pher[i][j] = (1 - self.rho1)*self.Pher[i][j] + self.rho1*increment\n",
    "    \n",
    "    def oneIteration(self, it):\n",
    "        self.preIterSetup()\n",
    "        for a in range(self.m): \n",
    "            for t in range(self.task_len):\n",
    "                chosen_vm = self.chooseVM(t,a)\n",
    "                assert(chosen_vm >= 0 and chosen_vm < self.vm_len)\n",
    "                self.M[a][t][chosen_vm]  = 1\n",
    "                self.vm_completetime[a][chosen_vm] +=  self.TRT[t][chosen_vm]\n",
    "                self.current_total_exectime[a] += self.TRT[t][chosen_vm]\n",
    "                if (self.vm_completetime[a][chosen_vm] > self.c_time_i[a]):\n",
    "                    self.c_time_i[a] = self.vm_completetime[a][chosen_vm]\n",
    "                self.total_cost_i[a] += self.TRT[t][chosen_vm] * self.VMs[chosen_vm][\"cost\"]\n",
    "                \n",
    "            self.time_cf[a] = (self.c_time_i[a] - self.c_time_min) / (self.c_time_max - self.c_time_min)\n",
    "            self.c_cost_i[a] = ( self.total_cost_i[a] - self.total_cost_min ) / ( self.total_cost_max - self.total_cost_min)\n",
    "            self.L[a] =  ((self.w1 * self.time_cf[a]) + (self.w2 * self.c_cost_i[a]))\n",
    "            # Setting Data after all assignments of Tasks to VMs\n",
    "        \n",
    "        #print (\"Local Optimum is: \", min(self.L))\n",
    "        for a in range(self.m):\n",
    "            if (self.minmax == False):\n",
    "                self.updatePheromone(a)\n",
    "            if (self.L_global_opt == -1):\n",
    "                self.L_global_opt = self.L[a]\n",
    "                self.M_global_opt = self.M[a]\n",
    "            elif (self.L[a] < self.L_global_opt):\n",
    "                #print (\"New Optimum: \", self.L_global_opt, self.L[a])\n",
    "                self.L_global_opt = self.L[a]\n",
    "                self.M_global_opt = self.M[a]\n",
    "        \n",
    "        if (self.minmax == True):\n",
    "            self.updateBestPheromone()\n",
    "        if (self.gupdate == True):\n",
    "            self.updateGlobalPheromone()\n",
    "        self.BL[it], self.Costs[it], self.Makespans[it] = self.findGlobalOptMetrics()\n",
    "        \n",
    "    def run(self):\n",
    "        self.setInitialPheromone()\n",
    "        self.BL = np.zeros((self.Nmax))\n",
    "        self.Costs = np.zeros((self.Nmax))\n",
    "        self.Makespans = np.zeros((self.Nmax))\n",
    "        \n",
    "        for it in range(self.Nmax):\n",
    "            self.oneIteration(it)\n",
    "        \n",
    "        \n",
    "    def saveResults(self, filename):\n",
    "        f = open(filename, \"w\")\n",
    "        res  = {}\n",
    "        res[\"BL\"] = self.BL[self.Nmax-1].tolist();\n",
    "        res[\"cost\"] = self.Costs[self.Nmax-1].tolist()\n",
    "        res[\"makespan\"] = self.Makespans[self.Nmax-1].tolist()\n",
    "        res[\"M\"] = self.M_global_opt.tolist()\n",
    "    \n",
    "        res_s = json.dumps(res)\n",
    "        f.write(res_s)\n",
    "        return res\n",
    "        \n"
   ]
  },
  {
   "cell_type": "code",
   "execution_count": 4,
   "metadata": {
    "collapsed": true
   },
   "outputs": [],
   "source": [
    "ns = [100, 150, 200, 300, 1000]\n",
    "letters = ['a', 'b', 'c', 'd']"
   ]
  },
  {
   "cell_type": "code",
   "execution_count": 6,
   "metadata": {},
   "outputs": [
    {
     "name": "stderr",
     "output_type": "stream",
     "text": [
      "C:\\Users\\Asavari\\Anaconda3\\lib\\site-packages\\ipykernel_launcher.py:237: RuntimeWarning: invalid value encountered in double_scalars\n"
     ]
    }
   ],
   "source": [
    "for l in letters:\n",
    "    for n in ns: \n",
    "        if (l == 'a'):\n",
    "            aco = ACO()\n",
    "        elif (l == 'b'):\n",
    "            aco = ACO(gupdate = True)\n",
    "        elif (l == 'c'):\n",
    "            aco = ACO(minmax = True)\n",
    "        elif (l == 'd'):\n",
    "            aco = ACO(gupdate = True, minmax = True)\n",
    "            \n",
    "        aco.loadData(\"vm_data.txt\", \"Task_Data/task_data_gocj_\" + str(n) + \".txt\")\n",
    "        aco.run()\n",
    "        fn = str(n) + \"_\" + l + \".txt\"\n",
    "        Results[fn] = aco.saveResults(\"Results/\" + fn)"
   ]
  },
  {
   "cell_type": "code",
   "execution_count": 7,
   "metadata": {},
   "outputs": [
    {
     "name": "stdout",
     "output_type": "stream",
     "text": [
      "dict_keys(['100_a.txt', '150_a.txt', '200_a.txt', '300_a.txt', '1000_a.txt', '100_b.txt', '150_b.txt', '200_b.txt', '300_b.txt', '1000_b.txt', '100_c.txt', '150_c.txt', '200_c.txt', '300_c.txt', '1000_c.txt', '100_d.txt', '150_d.txt', '200_d.txt', '300_d.txt', '1000_d.txt'])\n"
     ]
    }
   ],
   "source": [
    "print (Results.keys())"
   ]
  },
  {
   "cell_type": "code",
   "execution_count": 91,
   "metadata": {
    "collapsed": true
   },
   "outputs": [],
   "source": [
    "BLs = []\n",
    "Costs = []\n",
    "Makespans = []"
   ]
  },
  {
   "cell_type": "code",
   "execution_count": 92,
   "metadata": {},
   "outputs": [],
   "source": [
    "for k in Results.keys():\n",
    "    n = int(k.split('_')[0])\n",
    "    l = k.split('_')[1].split('.')[0]\n",
    "    BLs.append([n, l, Results[k][\"BL\"]])\n",
    "    Costs.append([n, l, Results[k][\"cost\"]])\n",
    "    Makespans.append([n, l, Results[k][\"makespan\"]])\n"
   ]
  },
  {
   "cell_type": "code",
   "execution_count": 93,
   "metadata": {
    "collapsed": true
   },
   "outputs": [],
   "source": [
    "BLs = np.array(BLs)\n",
    "Costs = np.array(Costs)\n",
    "Makespans = np.array(Makespans)"
   ]
  },
  {
   "cell_type": "code",
   "execution_count": 94,
   "metadata": {},
   "outputs": [],
   "source": [
    "BLs_temp = BLs[:,1]\n",
    "colors = ['red', 'green', 'yellow', 'pink']\n",
    "classes = ['All', 'Global + All', 'Iteration Best', 'Iteration Best + Global']"
   ]
  },
  {
   "cell_type": "code",
   "execution_count": 95,
   "metadata": {},
   "outputs": [],
   "source": [
    "BLs_temp[BLs_temp == 'a'] = 'red'\n",
    "BLs_temp[BLs_temp == 'b'] = 'green'\n",
    "BLs_temp[BLs_temp == 'c'] = 'yellow'\n",
    "BLs_temp[BLs_temp == 'd'] = 'pink'"
   ]
  },
  {
   "cell_type": "code",
   "execution_count": 96,
   "metadata": {},
   "outputs": [],
   "source": [
    "recs =[]\n",
    "for i in range(0,len(colors)):\n",
    "    recs.append(mpatches.Rectangle((0,0),1,1,fc=colors[i]))"
   ]
  },
  {
   "cell_type": "code",
   "execution_count": 97,
   "metadata": {},
   "outputs": [
    {
     "data": {
      "image/png": "[encoded data removed]",
      "text/plain": [
       "<matplotlib.figure.Figure at 0x1d605c7dc18>"
      ]
     },
     "metadata": {},
     "output_type": "display_data"
    }
   ],
   "source": [
    "plt.scatter(BLs[:,0], BLs[:,2], c=BLs_temp)\n",
    "plt.legend(recs,classes,loc=4)\n",
    "plt.title('Balanced Load')\n",
    "plt.xlabel('Number of Tasks')\n",
    "plt.ylabel('Balanced Load')\n",
    "plt.show()"
   ]
  },
  {
   "cell_type": "code",
   "execution_count": 98,
   "metadata": {},
   "outputs": [
    {
     "data": {
      "image/png": "[encoded data removed]",
      "text/plain": [
       "<matplotlib.figure.Figure at 0x1d605d50198>"
      ]
     },
     "metadata": {},
     "output_type": "display_data"
    }
   ],
   "source": [
    "plt.scatter(Costs[:,0], Costs[:,2], c=BLs_temp)\n",
    "plt.legend(recs,classes,loc=4)\n",
    "plt.title('Cost')\n",
    "plt.xlabel('Number of Tasks')\n",
    "plt.ylabel('Cost')\n",
    "plt.show()"
   ]
  },
  {
   "cell_type": "code",
   "execution_count": 100,
   "metadata": {
    "scrolled": true
   },
   "outputs": [
    {
     "data": {
      "image/png": "[encoded data removed]",
      "text/plain": [
       "<matplotlib.figure.Figure at 0x1d605b87908>"
      ]
     },
     "metadata": {},
     "output_type": "display_data"
    }
   ],
   "source": [
    "plt.scatter(Makespans[:,0], Makespans[:,2], c=BLs_temp)\n",
    "plt.title('Makespans')\n",
    "plt.xlabel('Number of Tasks')\n",
    "plt.ylabel('Makespan')\n",
    "plt.show()"
   ]
  },
  {
   "cell_type": "markdown",
   "metadata": {},
   "source": [
    "## Comparing Effect of Number of Ants"
   ]
  },
  {
   "cell_type": "code",
   "execution_count": 137,
   "metadata": {
    "collapsed": true
   },
   "outputs": [],
   "source": [
    "costs = []\n",
    "makespans = []\n",
    "BLs = []"
   ]
  },
  {
   "cell_type": "code",
   "execution_count": 138,
   "metadata": {},
   "outputs": [
    {
     "name": "stderr",
     "output_type": "stream",
     "text": [
      "C:\\Users\\Asavari\\Anaconda3\\lib\\site-packages\\ipykernel_launcher.py:237: RuntimeWarning: invalid value encountered in double_scalars\n"
     ]
    }
   ],
   "source": [
    "aco = ACO(gupdate = True, m= 10)         \n",
    "aco.loadData(\"vm_data.txt\", \"Task_Data/task_data_gocj_1000.txt\")\n",
    "aco.run()\n",
    "fn = \"1000_d_m_10.txt\"\n",
    "res = aco.saveResults(\"Results/\" + fn)\n",
    "costs.append(res[\"cost\"])\n",
    "makespans.append(res[\"makespan\"])\n",
    "BLs.append(res[\"BL\"])"
   ]
  },
  {
   "cell_type": "code",
   "execution_count": 139,
   "metadata": {},
   "outputs": [
    {
     "name": "stderr",
     "output_type": "stream",
     "text": [
      "C:\\Users\\Asavari\\Anaconda3\\lib\\site-packages\\ipykernel_launcher.py:237: RuntimeWarning: invalid value encountered in double_scalars\n"
     ]
    }
   ],
   "source": [
    "aco = ACO(gupdate = True, m= 40)         \n",
    "aco.loadData(\"vm_data.txt\", \"Task_Data/task_data_gocj_1000.txt\")\n",
    "aco.run()\n",
    "fn = \"1000_d_m_40.txt\"\n",
    "res = aco.saveResults(\"Results/\" + fn)\n",
    "costs.append(res[\"cost\"])\n",
    "makespans.append(res[\"makespan\"])\n",
    "BLs.append(res[\"BL\"])"
   ]
  },
  {
   "cell_type": "code",
   "execution_count": 140,
   "metadata": {
    "scrolled": true
   },
   "outputs": [
    {
     "name": "stdout",
     "output_type": "stream",
     "text": [
      "[212003.22856018104, 197362.7136963347] [35333.8714266968, 32893.78561605573] [12588.674393787613, 11652.301926849164]\n"
     ]
    }
   ],
   "source": [
    "print (costs, makespans, BLs)"
   ]
  },
  {
   "cell_type": "code",
   "execution_count": 141,
   "metadata": {},
   "outputs": [
    {
     "data": {
      "image/png": "[encoded data removed]",
      "text/plain": [
       "<matplotlib.figure.Figure at 0x1d6058cf400>"
      ]
     },
     "metadata": {},
     "output_type": "display_data"
    }
   ],
   "source": [
    "plt.bar([0, 1], costs, width=0.5, tick_label = [\"m=10\" , \"m=40\"])\n",
    "plt.title('Effect of Number of Ants')\n",
    "plt.xlabel('m')\n",
    "plt.ylabel('Cost')\n",
    "plt.show()"
   ]
  },
  {
   "cell_type": "code",
   "execution_count": 142,
   "metadata": {},
   "outputs": [
    {
     "data": {
      "image/png": "[encoded data removed]",
      "text/plain": [
       "<matplotlib.figure.Figure at 0x1d605a92470>"
      ]
     },
     "metadata": {},
     "output_type": "display_data"
    }
   ],
   "source": [
    "plt.bar([0, 1], makespans, width=0.5, tick_label = [\"m=10\" , \"m=40\"])\n",
    "plt.title('Effect of Number of Ants')\n",
    "plt.xlabel('m')\n",
    "plt.ylabel('Makespan')\n",
    "plt.show()"
   ]
  },
  {
   "cell_type": "code",
   "execution_count": 143,
   "metadata": {},
   "outputs": [
    {
     "data": {
      "image/png": "[encoded data removed]",
      "text/plain": [
       "<matplotlib.figure.Figure at 0x1d605d7e208>"
      ]
     },
     "metadata": {},
     "output_type": "display_data"
    }
   ],
   "source": [
    "plt.bar([0, 1], BLs, width=0.5, tick_label = [\"m=10\" , \"m=40\"])\n",
    "plt.title('Effect of Number of Ants')\n",
    "plt.xlabel('m')\n",
    "plt.ylabel('BL')\n",
    "plt.show()"
   ]
  },
  {
   "cell_type": "code",
   "execution_count": null,
   "metadata": {
    "collapsed": true
   },
   "outputs": [],
   "source": []
  },
  {
   "cell_type": "markdown",
   "metadata": {},
   "source": [
    "## Comparing Effect of Number of Iterations"
   ]
  },
  {
   "cell_type": "code",
   "execution_count": 144,
   "metadata": {
    "collapsed": true
   },
   "outputs": [],
   "source": [
    "costs = []\n",
    "makespans = []\n",
    "BLs = []"
   ]
  },
  {
   "cell_type": "code",
   "execution_count": 145,
   "metadata": {},
   "outputs": [
    {
     "name": "stderr",
     "output_type": "stream",
     "text": [
      "C:\\Users\\Asavari\\Anaconda3\\lib\\site-packages\\ipykernel_launcher.py:237: RuntimeWarning: invalid value encountered in double_scalars\n"
     ]
    }
   ],
   "source": [
    "aco = ACO(gupdate = True, Nmax= 30)         \n",
    "aco.loadData(\"vm_data.txt\", \"Task_Data/task_data_gocj_1000.txt\")\n",
    "aco.run()\n",
    "fn = \"1000_b_Nmax_30.txt\"\n",
    "res = aco.saveResults(\"Results/\" + fn)\n",
    "costs.append(res[\"cost\"])\n",
    "makespans.append(res[\"makespan\"])\n",
    "BLs.append(res[\"BL\"])"
   ]
  },
  {
   "cell_type": "code",
   "execution_count": 146,
   "metadata": {},
   "outputs": [
    {
     "name": "stderr",
     "output_type": "stream",
     "text": [
      "C:\\Users\\Asavari\\Anaconda3\\lib\\site-packages\\ipykernel_launcher.py:237: RuntimeWarning: invalid value encountered in double_scalars\n"
     ]
    }
   ],
   "source": [
    "aco = ACO(gupdate = True, Nmax= 50)         \n",
    "aco.loadData(\"vm_data.txt\", \"Task_Data/task_data_gocj_1000.txt\")\n",
    "aco.run()\n",
    "fn = \"1000_b_Nmax_50.txt\"\n",
    "res = aco.saveResults(\"Results/\" + fn)\n",
    "costs.append(res[\"cost\"])\n",
    "makespans.append(res[\"makespan\"])\n",
    "BLs.append(res[\"BL\"])"
   ]
  },
  {
   "cell_type": "code",
   "execution_count": 147,
   "metadata": {
    "scrolled": true
   },
   "outputs": [
    {
     "name": "stdout",
     "output_type": "stream",
     "text": [
      "[210295.17294926173, 212137.3822083753] [35049.1954915436, 35356.230368062505] [12528.34426856977, 12646.203621351293]\n"
     ]
    }
   ],
   "source": [
    "print (costs, makespans, BLs)"
   ]
  },
  {
   "cell_type": "code",
   "execution_count": 148,
   "metadata": {},
   "outputs": [
    {
     "data": {
      "image/png": "[encoded data removed]",
      "text/plain": [
       "<matplotlib.figure.Figure at 0x1d605a92cf8>"
      ]
     },
     "metadata": {},
     "output_type": "display_data"
    }
   ],
   "source": [
    "plt.bar([0, 1], costs, width=0.5, tick_label = [\"NMax=30\" , \"NMax=50\"])\n",
    "plt.title('Effect of Number of Iterations')\n",
    "plt.xlabel('NMax')\n",
    "plt.ylabel('Cost')\n",
    "plt.show()"
   ]
  },
  {
   "cell_type": "code",
   "execution_count": 149,
   "metadata": {},
   "outputs": [
    {
     "data": {
      "image/png": "[encoded data removed]",
      "text/plain": [
       "<matplotlib.figure.Figure at 0x1d6058459e8>"
      ]
     },
     "metadata": {},
     "output_type": "display_data"
    }
   ],
   "source": [
    "plt.bar([0, 1], makespans, width=0.5, tick_label = [\"NMax=30\" , \"NMax=50\"])\n",
    "plt.title('Effect of Number of Iterations')\n",
    "plt.xlabel('NMax')\n",
    "plt.ylabel('Makespan')\n",
    "plt.show()"
   ]
  },
  {
   "cell_type": "code",
   "execution_count": 150,
   "metadata": {},
   "outputs": [
    {
     "data": {
      "image/png": "[encoded data removed]",
      "text/plain": [
       "<matplotlib.figure.Figure at 0x1d6060758d0>"
      ]
     },
     "metadata": {},
     "output_type": "display_data"
    }
   ],
   "source": [
    "plt.bar([0, 1], BLs, width=0.5, tick_label = [\"NMax=30\" , \"NMax=50\"])\n",
    "plt.title('Effect of Number of Iterations')\n",
    "plt.xlabel('NMax')\n",
    "plt.ylabel('BL')\n",
    "plt.show()"
   ]
  },
  {
   "cell_type": "markdown",
   "metadata": {},
   "source": [
    "## Comparing Effect of Evaporation Rate"
   ]
  },
  {
   "cell_type": "code",
   "execution_count": 151,
   "metadata": {
    "collapsed": true
   },
   "outputs": [],
   "source": [
    "costs = []\n",
    "makespans = []\n",
    "BLs = []"
   ]
  },
  {
   "cell_type": "code",
   "execution_count": 152,
   "metadata": {},
   "outputs": [
    {
     "name": "stderr",
     "output_type": "stream",
     "text": [
      "C:\\Users\\Asavari\\Anaconda3\\lib\\site-packages\\ipykernel_launcher.py:237: RuntimeWarning: invalid value encountered in double_scalars\n"
     ]
    }
   ],
   "source": [
    "aco = ACO(gupdate = True, rho = 0.4)         \n",
    "aco.loadData(\"vm_data.txt\", \"Task_Data/task_data_gocj_1000.txt\")\n",
    "aco.run()\n",
    "fn = \"1000_d_rho_4.txt\"\n",
    "res = aco.saveResults(\"Results/\" + fn)\n",
    "costs.append(res[\"cost\"])\n",
    "makespans.append(res[\"makespan\"])\n",
    "BLs.append(res[\"BL\"])"
   ]
  },
  {
   "cell_type": "code",
   "execution_count": 153,
   "metadata": {},
   "outputs": [
    {
     "name": "stderr",
     "output_type": "stream",
     "text": [
      "C:\\Users\\Asavari\\Anaconda3\\lib\\site-packages\\ipykernel_launcher.py:237: RuntimeWarning: invalid value encountered in double_scalars\n"
     ]
    }
   ],
   "source": [
    "aco = ACO(gupdate = True, rho = 0.8)         \n",
    "aco.loadData(\"vm_data.txt\", \"Task_Data/task_data_gocj_1000.txt\")\n",
    "aco.run()\n",
    "fn = \"1000_d_rho_8.txt\"\n",
    "res = aco.saveResults(\"Results/\" + fn)\n",
    "costs.append(res[\"cost\"])\n",
    "makespans.append(res[\"makespan\"])\n",
    "BLs.append(res[\"BL\"])"
   ]
  },
  {
   "cell_type": "code",
   "execution_count": 154,
   "metadata": {
    "scrolled": true
   },
   "outputs": [
    {
     "name": "stdout",
     "output_type": "stream",
     "text": [
      "[214806.3276974817, 208289.71532050357] [35801.054616246955, 34714.952553417235] [12510.930832885837, 12473.48897743457]\n"
     ]
    }
   ],
   "source": [
    "print (costs, makespans, BLs)"
   ]
  },
  {
   "cell_type": "code",
   "execution_count": 155,
   "metadata": {},
   "outputs": [
    {
     "data": {
      "image/png": "[encoded data removed]",
      "text/plain": [
       "<matplotlib.figure.Figure at 0x1d606042438>"
      ]
     },
     "metadata": {},
     "output_type": "display_data"
    }
   ],
   "source": [
    "plt.bar([0, 1], costs, width=0.5, tick_label = [\"rho=0.4\" , \"rho=0.8\"])\n",
    "plt.title('Effect of Evaporation Rate')\n",
    "plt.xlabel('rho')\n",
    "plt.ylabel('Cost')\n",
    "plt.show()"
   ]
  },
  {
   "cell_type": "code",
   "execution_count": 156,
   "metadata": {},
   "outputs": [
    {
     "data": {
      "image/png": "[encoded data removed]",
      "text/plain": [
       "<matplotlib.figure.Figure at 0x1d605d46630>"
      ]
     },
     "metadata": {},
     "output_type": "display_data"
    }
   ],
   "source": [
    "plt.bar([0, 1], makespans, width=0.5, tick_label = [\"rho=0.4\" , \"rho=0.8\"])\n",
    "plt.title('Effect of Evaporation Rate')\n",
    "plt.xlabel('rho')\n",
    "plt.ylabel('Makespan')\n",
    "plt.show()"
   ]
  },
  {
   "cell_type": "code",
   "execution_count": 157,
   "metadata": {},
   "outputs": [
    {
     "data": {
      "image/png": "[encoded data removed]",
      "text/plain": [
       "<matplotlib.figure.Figure at 0x1d602e55c50>"
      ]
     },
     "metadata": {},
     "output_type": "display_data"
    }
   ],
   "source": [
    "plt.bar([0, 1], BLs, width=0.5, tick_label = [\"rho=0.4\" , \"rho=0.8\"])\n",
    "plt.title('Effect of Evaporation Rate')\n",
    "plt.xlabel('rho')\n",
    "plt.ylabel('BL')\n",
    "plt.show()"
   ]
  },
  {
   "cell_type": "code",
   "execution_count": null,
   "metadata": {
    "collapsed": true
   },
   "outputs": [],
   "source": []
  }
 ],
 "metadata": {
  "kernelspec": {
   "display_name": "Python 3",
   "language": "python",
   "name": "python3"
  },
  "language_info": {
   "codemirror_mode": {
    "name": "ipython",
    "version": 3
   },
   "file_extension": ".py",
   "mimetype": "text/x-python",
   "name": "python",
   "nbconvert_exporter": "python",
   "pygments_lexer": "ipython3",
   "version": "3.6.4"
  }
 },
 "nbformat": 4,
 "nbformat_minor": 2
}
