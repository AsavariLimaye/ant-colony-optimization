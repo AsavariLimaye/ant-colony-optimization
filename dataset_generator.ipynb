{
 "cells": [
  {
   "cell_type": "code",
   "execution_count": 37,
   "metadata": {
    "collapsed": true
   },
   "outputs": [],
   "source": [
    "import random\n",
    "import json"
   ]
  },
  {
   "cell_type": "code",
   "execution_count": 38,
   "metadata": {
    "collapsed": true
   },
   "outputs": [],
   "source": [
    "class TaskParams:\n",
    "    Tasks = []\n",
    "    \n",
    "    #Length of tasks in Machine Instructions\n",
    "    length_lb = 5000\n",
    "    length_ub = 100000\n",
    "\n",
    "    #Number of tasks to generate\n",
    "    n = 0\n",
    "    n_lb = 50\n",
    "    n_ub = 250\n",
    "    \n",
    "    #File size required by the tasks\n",
    "    size_lb = 300\n",
    "    size_ub = 5000\n",
    "    \n",
    "    def generateTask(self):\n",
    "        task = {}\n",
    "        task[\"length\"] = random.randint(self.length_lb, self.length_ub)\n",
    "        task[\"file\"] = random.randint(self.size_lb, self.size_ub)\n",
    "        return task\n",
    "        \n",
    "    def generateGocjTask(self, l):\n",
    "        task = {}\n",
    "        task[\"length\"] = int(l)\n",
    "        task[\"file\"] = random.randint(self.size_lb, self.size_ub)\n",
    "        #print (task)\n",
    "        return task\n",
    "        \n",
    "    \n",
    "    def generateDataset(self, n = -1):\n",
    "        if (n == -1):\n",
    "            self.n = random.randint(self.n_lb,self.n_ub)\n",
    "        else:\n",
    "            self.n = n\n",
    "        for i in range(self.n):\n",
    "            self.Tasks.append(self.generateTask())\n",
    "    \n",
    "    def generateGocj(self, gocjfile):\n",
    "        l = []\n",
    "        f = open(gocjfile, \"r\")\n",
    "        l = f.read()\n",
    "        l = l.split('\\n')\n",
    "          \n",
    "        self.n = len(l)\n",
    "        for i in range(self.n):\n",
    "            self.Tasks.append(self.generateGocjTask(l[i]))\n",
    "    \n",
    "    def printTasks(self):\n",
    "        print (self.Tasks)\n",
    "        \n",
    "    \n",
    "class VMParams:\n",
    "    VMs = []\n",
    "    \n",
    "    #Number of VMs\n",
    "    n = 10\n",
    "    \n",
    "    #Number of PE per VM\n",
    "    n_pe_lb = 1\n",
    "    n_pe_ub = 3\n",
    "    \n",
    "    #MIPS of PE\n",
    "    mips_lb = 512\n",
    "    mips_ub = 1024\n",
    "    \n",
    "    #Bandwith Range\n",
    "    bw_lb = 500\n",
    "    bw_ub = 1200\n",
    "    \n",
    "    #Memory\n",
    "    mem_lb = 512\n",
    "    mem_ub =  2048\n",
    "    \n",
    "    #Storage\n",
    "    stg_lb = 100000\n",
    "    stg_ub = 800000\n",
    "    \n",
    "    #Cost per VM\n",
    "    cost_lb = 1\n",
    "    cost_ub = 10\n",
    "    \n",
    "    def generateVM(self):\n",
    "        vm = {}\n",
    "        \n",
    "        vm[\"n_pe\"] = random.randint(self.n_pe_lb, self.n_pe_ub)\n",
    "        vm[\"mips\"] = random.randint(self.mips_lb, self.mips_ub)\n",
    "        vm[\"bw\"] = random.randint(self.bw_lb, self.bw_ub)\n",
    "        vm[\"mem\"] = random.randint(self.mem_lb, self.mem_ub)\n",
    "        vm[\"stg\"] = random.randint(self.stg_lb, self.stg_ub)\n",
    "        vm[\"cost\"] = random.randint(self.cost_lb, self.cost_ub)\n",
    "        \n",
    "        return vm\n",
    "    \n",
    "    def generateDataset(self):\n",
    "        for i in range(self.n):\n",
    "            self.VMs.append(self.generateVM())\n",
    "            \n",
    "    def printVMs(self):\n",
    "        print (self.VMs)"
   ]
  },
  {
   "cell_type": "code",
   "execution_count": 39,
   "metadata": {
    "collapsed": true
   },
   "outputs": [],
   "source": [
    "# Regular Dataset"
   ]
  },
  {
   "cell_type": "code",
   "execution_count": null,
   "metadata": {
    "collapsed": true
   },
   "outputs": [],
   "source": [
    "# VM\n",
    "vm_gen = VMParams()\n",
    "vm_gen.generateDataset()\n",
    "#vm_gen.printVMs()\n",
    "\n",
    "vm_string_data = json.dumps(vm_gen.VMs)\n",
    "\n",
    "VM_file = open(\"vm_data.txt\", \"w\")\n",
    "VM_file.write(vm_string_data)\n",
    "VM_file.close()"
   ]
  },
  {
   "cell_type": "code",
   "execution_count": 36,
   "metadata": {},
   "outputs": [],
   "source": [
    "n_t = 1000\n",
    "task_gen = TaskParams()\n",
    "task_gen.generateDataset(n = n_t)\n",
    "#task_gen.printTasks()\n",
    "\n",
    "task_string_data = json.dumps(task_gen.Tasks)\n",
    "\n",
    "task_file = open(\"task_data_\" + str(n_t) + \".txt\", \"w\")\n",
    "task_file.write(task_string_data)\n",
    "task_file.close()"
   ]
  },
  {
   "cell_type": "code",
   "execution_count": 50,
   "metadata": {
    "collapsed": true
   },
   "outputs": [],
   "source": [
    "# GOCJ Data Generator"
   ]
  },
  {
   "cell_type": "code",
   "execution_count": 51,
   "metadata": {},
   "outputs": [],
   "source": [
    "task_gen_gocj = TaskParams()\n",
    "task_gen_gocj.generateGocj(\"GoCJ/GoCJ_Dataset_150.txt\")\n",
    "#task_gen_gocj.printTasks()\n",
    "\n",
    "task_string_data = json.dumps(task_gen_gocj.Tasks)"
   ]
  },
  {
   "cell_type": "code",
   "execution_count": 52,
   "metadata": {
    "collapsed": true
   },
   "outputs": [],
   "source": [
    "task_file = open(\"Task_Data/task_data_gocj_150.txt\", \"w\")\n",
    "task_file.write(task_string_data)\n",
    "task_file.close()"
   ]
  },
  {
   "cell_type": "code",
   "execution_count": null,
   "metadata": {
    "collapsed": true
   },
   "outputs": [],
   "source": []
  }
 ],
 "metadata": {
  "kernelspec": {
   "display_name": "Python 3",
   "language": "python",
   "name": "python3"
  },
  "language_info": {
   "codemirror_mode": {
    "name": "ipython",
    "version": 3
   },
   "file_extension": ".py",
   "mimetype": "text/x-python",
   "name": "python",
   "nbconvert_exporter": "python",
   "pygments_lexer": "ipython3",
   "version": "3.6.4"
  }
 },
 "nbformat": 4,
 "nbformat_minor": 2
}
